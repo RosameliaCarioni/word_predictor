{
 "cells": [
  {
   "cell_type": "code",
   "execution_count": 90,
   "metadata": {},
   "outputs": [],
   "source": [
    "import pandas as pd\n",
    "from nltk.tokenize import TweetTokenizer \n",
    "import re\n",
    "import string"
   ]
  },
  {
   "cell_type": "markdown",
   "metadata": {},
   "source": [
    "This notebook handles the pre-processing of the dataset: \n",
    "https://www.kaggle.com/datasets/hsankesara/medium-articles  \n",
    "\n",
    "It generates 1 .txt files with cleaned content named: `articles.txt`. "
   ]
  },
  {
   "cell_type": "markdown",
   "metadata": {},
   "source": [
    "# Methods"
   ]
  },
  {
   "cell_type": "code",
   "execution_count": null,
   "metadata": {},
   "outputs": [],
   "source": [
    "def clean_line(line):\n",
    "    tokenizer = TweetTokenizer()\n",
    "    line = line.replace(\"’\", \"'\")\n",
    "    allowed_punctuation_char = \"'\"\n",
    "    allowed_punctuation_word = \"'\" + \"#\" + \"-\"\n",
    "    \n",
    "    # Modify regex to preserve periods in abbreviations like 'U.S.', 'P.M.', etc.\n",
    "    # 1. Substitute periods in known abbreviations with a placeholder\n",
    "    line = re.sub(r'(?<=\\b[A-Z])\\.(?=[A-Z]\\b)', '', line)  # Remove periods in multi-letter abbreviations\n",
    "    \n",
    "    line = re.sub(rf'[^\\w\\s{allowed_punctuation_word}{allowed_punctuation_char}(\\w+\\'\\w+)]|_|\\d', ' ',  line)\n",
    "    \n",
    "    words = tokenizer.tokenize(line)\n",
    "    result = ''\n",
    "    for i, word in enumerate(words):\n",
    "        if word in allowed_punctuation_char:\n",
    "            result = result.rstrip()\n",
    "            result += word.lower() + ' '\n",
    "        elif word not in string.punctuation:\n",
    "            translated_word = word.lower().replace('.', '')\n",
    "            if len(translated_word) == 0:\n",
    "                continue\n",
    "            result += translated_word + ' '\n",
    "    return result.rstrip()"
   ]
  },
  {
   "cell_type": "code",
   "execution_count": null,
   "metadata": {},
   "outputs": [],
   "source": [
    "def write_sentences_to_file(sentences, file_path):\n",
    "    try:\n",
    "        with open(file_path, 'w') as file:\n",
    "            for sentence in sentences:\n",
    "                file.write(sentence + '\\n')\n",
    "        print(f\"Sentences successfully written to {file_path}\")\n",
    "    except Exception as e:\n",
    "        print(f\"An error occurred while writing to the file: {e}\")"
   ]
  },
  {
   "cell_type": "markdown",
   "metadata": {},
   "source": [
    "# Data processing"
   ]
  },
  {
   "cell_type": "code",
   "execution_count": 91,
   "metadata": {},
   "outputs": [],
   "source": [
    "file_path = '/Users/rosameliacarioni/University/MSc/1_year/4_period/language engineering/word_predictor/data/articles.csv'\n",
    "df = pd.read_csv(file_path)\n"
   ]
  },
  {
   "cell_type": "markdown",
   "metadata": {},
   "source": [
    "## Extact column of interest"
   ]
  },
  {
   "cell_type": "code",
   "execution_count": 92,
   "metadata": {},
   "outputs": [
    {
     "data": {
      "text/html": [
       "<div>\n",
       "<style scoped>\n",
       "    .dataframe tbody tr th:only-of-type {\n",
       "        vertical-align: middle;\n",
       "    }\n",
       "\n",
       "    .dataframe tbody tr th {\n",
       "        vertical-align: top;\n",
       "    }\n",
       "\n",
       "    .dataframe thead th {\n",
       "        text-align: right;\n",
       "    }\n",
       "</style>\n",
       "<table border=\"1\" class=\"dataframe\">\n",
       "  <thead>\n",
       "    <tr style=\"text-align: right;\">\n",
       "      <th></th>\n",
       "      <th>text</th>\n",
       "    </tr>\n",
       "  </thead>\n",
       "  <tbody>\n",
       "    <tr>\n",
       "      <th>0</th>\n",
       "      <td>Oh, how the headlines blared:\\nChatbots were T...</td>\n",
       "    </tr>\n",
       "    <tr>\n",
       "      <th>1</th>\n",
       "      <td>If you’ve ever found yourself looking up the s...</td>\n",
       "    </tr>\n",
       "    <tr>\n",
       "      <th>2</th>\n",
       "      <td>Machine learning is increasingly moving from h...</td>\n",
       "    </tr>\n",
       "    <tr>\n",
       "      <th>3</th>\n",
       "      <td>If your understanding of A.I. and Machine Lear...</td>\n",
       "    </tr>\n",
       "    <tr>\n",
       "      <th>4</th>\n",
       "      <td>Want to learn about applied Artificial Intelli...</td>\n",
       "    </tr>\n",
       "    <tr>\n",
       "      <th>...</th>\n",
       "      <td>...</td>\n",
       "    </tr>\n",
       "    <tr>\n",
       "      <th>332</th>\n",
       "      <td>Click here to share this article on LinkedIn »...</td>\n",
       "    </tr>\n",
       "    <tr>\n",
       "      <th>333</th>\n",
       "      <td>These are my opinions on where deep neural net...</td>\n",
       "    </tr>\n",
       "    <tr>\n",
       "      <th>334</th>\n",
       "      <td>Everyone who has been remotely tuned in to rec...</td>\n",
       "    </tr>\n",
       "    <tr>\n",
       "      <th>335</th>\n",
       "      <td>One of the biggest misconceptions around is th...</td>\n",
       "    </tr>\n",
       "    <tr>\n",
       "      <th>336</th>\n",
       "      <td>I believe, we all have that psychologist/philo...</td>\n",
       "    </tr>\n",
       "  </tbody>\n",
       "</table>\n",
       "<p>337 rows × 1 columns</p>\n",
       "</div>"
      ],
      "text/plain": [
       "                                                  text\n",
       "0    Oh, how the headlines blared:\\nChatbots were T...\n",
       "1    If you’ve ever found yourself looking up the s...\n",
       "2    Machine learning is increasingly moving from h...\n",
       "3    If your understanding of A.I. and Machine Lear...\n",
       "4    Want to learn about applied Artificial Intelli...\n",
       "..                                                 ...\n",
       "332  Click here to share this article on LinkedIn »...\n",
       "333  These are my opinions on where deep neural net...\n",
       "334  Everyone who has been remotely tuned in to rec...\n",
       "335  One of the biggest misconceptions around is th...\n",
       "336  I believe, we all have that psychologist/philo...\n",
       "\n",
       "[337 rows x 1 columns]"
      ]
     },
     "execution_count": 92,
     "metadata": {},
     "output_type": "execute_result"
    }
   ],
   "source": [
    "df = df[['text']]\n",
    "df"
   ]
  },
  {
   "cell_type": "markdown",
   "metadata": {},
   "source": [
    "## Transform the df into a list"
   ]
  },
  {
   "cell_type": "code",
   "execution_count": 93,
   "metadata": {},
   "outputs": [],
   "source": [
    "sentences_list = df['text'].tolist()        \n",
    "sentences_list = [text.replace('\\n', ' ') for text in sentences_list]"
   ]
  },
  {
   "cell_type": "code",
   "execution_count": 94,
   "metadata": {},
   "outputs": [
    {
     "data": {
      "text/plain": [
       "\"Oh, how the headlines blared: Chatbots were The Next Big Thing. Our hopes were sky high. Bright-eyed and bushy-tailed, the industry was ripe for a new era of innovation: it was time to start socializing with machines. And why wouldn’t they be? All the road signs pointed towards insane success. At the Mobile World Congress 2017, chatbots were the main headliners. The conference organizers cited an ‘overwhelming acceptance at the event of the inevitable shift of focus for brands and corporates to chatbots’. In fact, the only significant question around chatbots was who would monopolize the field, not whether chatbots would take off in the first place: One year on, we have an answer to that question. No. Because there isn’t even an ecosystem for a platform to dominate. Chatbots weren’t the first technological development to be talked up in grandiose terms and then slump spectacularly. The age-old hype cycle unfolded in familiar fashion... Expectations built, built, and then..... It all kind of fizzled out. The predicted paradim shift didn’t materialize. And apps are, tellingly, still alive and well. We look back at our breathless optimism and turn to each other, slightly baffled: “is that it? THAT was the chatbot revolution we were promised?” Digit’s Ethan Bloch sums up the general consensus: According to Dave Feldman, Vice President of Product Design at Heap, chatbots didn’t just take on one difficult problem and fail: they took on several and failed all of them. Bots can interface with users in different ways. The big divide is text vs. speech. In the beginning (of computer interfaces) was the (written) word. Users had to type commands manually into a machine to get anything done. Then, graphical user interfaces (GUIs) came along and saved the day. We became entranced by windows, mouse clicks, icons. And hey, we eventually got color, too! Meanwhile, a bunch of research scientists were busily developing natural language (NL) interfaces to databases, instead of having to learn an arcane database query language. Another bunch of scientists were developing speech-processing software so that you could just speak to your computer, rather than having to type. This turned out to be a whole lot more difficult than anyone originally realised: The next item on the agenda was holding a two-way dialog with a machine. Here’s an example dialog (dating back to the 1990s) with VCR setup system: Pretty cool, right? The system takes turns in collaborative way, and does a smart job of figuring out what the user wants. It was carefully crafted to deal with conversations involving VCRs, and could only operate within strict limitations. Modern day bots, whether they use typed or spoken input, have to face all these challenges, but also work in an efficient and scalable way on a variety of platforms. Basically, we’re still trying to achieve the same innovations we were 30 years ago. Here’s where I think we’re going wrong: An oversized assumption has been that apps are ‘over’, and would be replaced by bots. By pitting two such disparate concepts against one another (instead of seeing them as separate entities designed to serve different purposes) we discouraged bot development. You might remember a similar war cry when apps first came onto the scene ten years ago: but do you remember when apps replaced the internet? It’s said that a new product or service needs to be two of the following: better, cheaper, or faster. Are chatbots cheaper or faster than apps? No — not yet, at least. Whether they’re ‘better’ is subjective, but I think it’s fair to say that today’s best bot isn’t comparable to today’s best app. Plus, nobody thinks that using Lyft is too complicated, or that it’s too hard to order food or buy a dress on an app. What is too complicated is trying to complete these tasks with a bot — and having the bot fail. A great bot can be about as useful as an average app. When it comes to rich, sophisticated, multi-layered apps, there’s no competition. That’s because machines let us access vast and complex information systems, and the early graphical information systems were a revolutionary leap forward in helping us locate those systems. Modern-day apps benefit from decades of research and experimentation. Why would we throw this away? But, if we swap the word ‘replace’ with ‘extend’, things get much more interesting. Today’s most successful bot experiences take a hybrid approach, incorporating chat into a broader strategy that encompasses more traditional elements. The next wave will be multimodal apps, where you can say what you want (like with Siri) and get back information as a map, text, or even a spoken response. Another problematic aspect of the sweeping nature of hype is that it tends to bypass essential questions like these. For plenty of companies, bots just aren’t the right solution. The past two years are littered with cases of bots being blindly applied to problems where they aren’t needed. Building a bot for the sake of it, letting it loose and hoping for the best will never end well: The vast majority of bots are built using decision-tree logic, where the bot’s canned response relies on spotting specific keywords in the user input. The advantage of this approach is that it’s pretty easy to list all the cases that they are designed to cover. And that’s precisely their disadvantage, too. That’s because these bots are purely a reflection of the capability, fastidiousness and patience of the person who created them; and how many user needs and inputs they were able to anticipate. Problems arise when life refuses to fit into those boxes. According to recent reports, 70% of the 100,000+ bots on Facebook Messenger are failing to fulfil simple user requests. This is partly a result of developers failing to narrow their bot down to one strong area of focus. When we were building GrowthBot, we decided to make it specific to sales and marketers: not an ‘all-rounder’, despite the temptation to get overexcited about potential capabilties. Remember: a bot that does ONE thing well is infinitely more helpful than a bot that does multiple things poorly. A competent developer can build a basic bot in minutes — but one that can hold a conversation? That’s another story. Despite the constant hype around AI, we’re still a long way from achieving anything remotely human-like. In an ideal world, the technology known as NLP (natural language processing) should allow a chatbot to understand the messages it receives. But NLP is only just emerging from research labs and is very much in its infancy. Some platforms provide a bit of NLP, but even the best is at toddler-level capacity (for example, think about Siri understanding your words, but not their meaning.) As Matt Asay outlines, this results in another issue: failure to capture the attention and creativity of developers. And conversations are complex. They’re not linear. Topics spin around each other, take random turns, restart or abruptly finish. Today’s rule-based dialogue systems are too brittle to deal with this kind of unpredictability, and statistical approaches using machine learning are just as limited. The level of AI required for human-like conversation just isn’t available yet. And in the meantime, there are few high-quality examples of trailblazing bots to lead the way. As Dave Feldman remarked: Once upon a time, the only way to interact with computers was by typing arcane commands to the terminal. Visual interfaces using windows, icons or a mouse were a revolution in how we manipulate information There’s a reasons computing moved from text-based to graphical user interfaces (GUIs). On the input side, it’s easier and faster to click than it is to type. Tapping or selecting is obviously preferable to typing out a whole sentence, even with predictive (often error-prone ) text. On the output side, the old adage that a picture is worth a thousand words is usually true. We love optical displays of information because we are highly visual creatures. It’s no accident that kids love touch screens. The pioneers who dreamt up graphical interface were inspired by cognitive psychology, the study of how the brain deals with communication. Conversational UIs are meant to replicate the way humans prefer to communicate, but they end up requiring extra cognitive effort. Essentially, we’re swapping something simple for a more-complex alternative. Sure, there are some concepts that we can only express using language (“show me all the ways of getting to a museum that give me 2000 steps but don’t take longer than 35 minutes”), but most tasks can be carried out more efficiently and intuitively with GUIs than with a conversational UI. Aiming for a human dimension in business interactions makes sense. If there’s one thing that’s broken about sales and marketing, it’s the lack of humanity: brands hide behind ticket numbers, feedback forms, do-not-reply-emails, automated responses and gated ‘contact us’ forms. Facebook’s goal is that their bots should pass the so-called Turing Test, meaning you can’t tell whether you are talking to a bot or a human. But a bot isn’t the same as a human. It never will be. A conversation encompasses so much more than just text. Humans can read between the lines, leverage contextual information and understand double layers like sarcasm. Bots quickly forget what they’re talking about, meaning it’s a bit like conversing with someone who has little or no short-term memory. As HubSpot team pinpointed: People aren’t easily fooled, and pretending a bot is a human is guaranteed to diminish returns (not to mention the fact that you’re lying to your users). And even those rare bots that are powered by state-of-the-art NLP, and excel at processing and producing content, will fall short in comparison. And here’s the other thing. Conversational UIs are built to replicate the way humans prefer to communicate — with other humans. But is that how humans prefer to interact with machines? Not necessarily. At the end of the day, no amount of witty quips or human-like mannerisms will save a bot from conversational failure. In a way, those early-adopters weren’t entirely wrong. People are yelling at Google Home to play their favorite song, ordering pizza from the Domino’s bot and getting makeup tips from Sephora. But in terms of consumer response and developer involvement, chatbots haven’t lived up to the hype generated circa 2015/16. Not even close. Computers are good at being computers. Searching for data, crunching numbers, analyzing opinions and condensing that information. Computers aren’t good at understanding human emotion. The state of NLP means they still don’t ‘get’ what we’re asking them, never mind how we feel. That’s why it’s still impossible to imagine effective customer support, sales or marketing without the essential human touch: empathy and emotional intelligence. For now, bots can continue to help us with automated, repetitive, low-level tasks and queries; as cogs in a larger, more complex system. And we did them, and ourselves, a disservice by expecting so much, so soon. But that’s not the whole story. Yes, our industry massively overestimated the initial impact chatbots would have. Emphasis on initial. As Bill Gates once said: The hype is over. And that’s a good thing. Now, we can start examining the middle-grounded grey area, instead of the hyper-inflated, frantic black and white zone. I believe we’re at the very beginning of explosive growth. This sense of anti-climax is completely normal for transformational technology. Messaging will continue to gain traction. Chatbots aren’t going away. NLP and AI are becoming more sophisticated every day. Developers, apps and platforms will continue to experiment with, and heavily invest in, conversational marketing. And I can’t wait to see what happens next. From a quick cheer to a standing ovation, clap to show how much you enjoyed this story. Head of Growth for GrowthBot, Messaging & Conversational Strategy @HubSpot Medium's largest publication for makers. Subscribe to receive our top stories here → https://goo.gl/zHcLJi \""
      ]
     },
     "execution_count": 94,
     "metadata": {},
     "output_type": "execute_result"
    }
   ],
   "source": [
    "sentences_list[0]"
   ]
  },
  {
   "cell_type": "markdown",
   "metadata": {},
   "source": [
    "## Iterate over the sentences and clean them"
   ]
  },
  {
   "cell_type": "code",
   "execution_count": 99,
   "metadata": {},
   "outputs": [],
   "source": [
    "cleaned_sentences = []\n",
    "for sentence in sentences_list:\n",
    "    new_sentence = clean_line(sentence)\n",
    "    cleaned_sentences.append(new_sentence)"
   ]
  },
  {
   "cell_type": "code",
   "execution_count": 101,
   "metadata": {},
   "outputs": [
    {
     "data": {
      "text/plain": [
       "\"oh how the headlines blared chatbots were the next big thing our hopes were sky high bright eyed and bushy tailed the industry was ripe for a new era of innovation it was time to start socializing with machines and why wouldn't they be all the road signs pointed towards insane success at the mobile world congress chatbots were the main headliners the conference organizers cited an overwhelming acceptance at the event of the inevitable shift of focus for brands and corporates to chatbots' in fact the only significant question around chatbots was who would monopolize the field not whether chatbots would take off in the first place one year on we have an answer to that question no because there isn't even an ecosystem for a platform to dominate chatbots weren't the first technological development to be talked up in grandiose terms and then slump spectacularly the age old hype cycle unfolded in familiar fashion expectations built built and then it all kind of fizzled out the predicted paradim shift didn't materialize and apps are tellingly still alive and well we look back at our breathless optimism and turn to each other slightly baffled is that it that was the chatbot revolution we were promised digit's ethan bloch sums up the general consensus according to dave feldman vice president of product design at heap chatbots didn't just take on one difficult problem and fail they took on several and failed all of them bots can interface with users in different ways the big divide is text vs speech in the beginning of computer interfaces was the written word users had to type commands manually into a machine to get anything done then graphical user interfaces guis came along and saved the day we became entranced by windows mouse clicks icons and hey we eventually got color too meanwhile a bunch of research scientists were busily developing natural language nl interfaces to databases instead of having to learn an arcane database query language another bunch of scientists were developing speech processing software so that you could just speak to your computer rather than having to type this turned out to be a whole lot more difficult than anyone originally realised the next item on the agenda was holding a two way dialog with a machine here's an example dialog dating back to the s with vcr setup system pretty cool right the system takes turns in collaborative way and does a smart job of figuring out what the user wants it was carefully crafted to deal with conversations involving vcrs and could only operate within strict limitations modern day bots whether they use typed or spoken input have to face all these challenges but also work in an efficient and scalable way on a variety of platforms basically we're still trying to achieve the same innovations we were years ago here's where i think we're going wrong an oversized assumption has been that apps are over' and would be replaced by bots by pitting two such disparate concepts against one another instead of seeing them as separate entities designed to serve different purposes we discouraged bot development you might remember a similar war cry when apps first came onto the scene ten years ago but do you remember when apps replaced the internet it's said that a new product or service needs to be two of the following better cheaper or faster are chatbots cheaper or faster than apps no not yet at least whether they're better' is subjective but i think it's fair to say that today's best bot isn't comparable to today's best app plus nobody thinks that using lyft is too complicated or that it's too hard to order food or buy a dress on an app what is too complicated is trying to complete these tasks with a bot and having the bot fail a great bot can be about as useful as an average app when it comes to rich sophisticated multi layered apps there's no competition that's because machines let us access vast and complex information systems and the early graphical information systems were a revolutionary leap forward in helping us locate those systems modern day apps benefit from decades of research and experimentation why would we throw this away but if we swap the word replace' with extend' things get much more interesting today's most successful bot experiences take a hybrid approach incorporating chat into a broader strategy that encompasses more traditional elements the next wave will be multimodal apps where you can say what you want like with siri and get back information as a map text or even a spoken response another problematic aspect of the sweeping nature of hype is that it tends to bypass essential questions like these for plenty of companies bots just aren't the right solution the past two years are littered with cases of bots being blindly applied to problems where they aren't needed building a bot for the sake of it letting it loose and hoping for the best will never end well the vast majority of bots are built using decision tree logic where the bot's canned response relies on spotting specific keywords in the user input the advantage of this approach is that it's pretty easy to list all the cases that they are designed to cover and that's precisely their disadvantage too that's because these bots are purely a reflection of the capability fastidiousness and patience of the person who created them and how many user needs and inputs they were able to anticipate problems arise when life refuses to fit into those boxes according to recent reports of the bots on facebook messenger are failing to fulfil simple user requests this is partly a result of developers failing to narrow their bot down to one strong area of focus when we were building growthbot we decided to make it specific to sales and marketers not an all rounder' despite the temptation to get overexcited about potential capabilties remember a bot that does one thing well is infinitely more helpful than a bot that does multiple things poorly a competent developer can build a basic bot in minutes but one that can hold a conversation that's another story despite the constant hype around ai we're still a long way from achieving anything remotely human like in an ideal world the technology known as nlp natural language processing should allow a chatbot to understand the messages it receives but nlp is only just emerging from research labs and is very much in its infancy some platforms provide a bit of nlp but even the best is at toddler level capacity for example think about siri understanding your words but not their meaning as matt asay outlines this results in another issue failure to capture the attention and creativity of developers and conversations are complex they're not linear topics spin around each other take random turns restart or abruptly finish today's rule based dialogue systems are too brittle to deal with this kind of unpredictability and statistical approaches using machine learning are just as limited the level of ai required for human like conversation just isn't available yet and in the meantime there are few high quality examples of trailblazing bots to lead the way as dave feldman remarked once upon a time the only way to interact with computers was by typing arcane commands to the terminal visual interfaces using windows icons or a mouse were a revolution in how we manipulate information there's a reasons computing moved from text based to graphical user interfaces guis on the input side it's easier and faster to click than it is to type tapping or selecting is obviously preferable to typing out a whole sentence even with predictive often error prone text on the output side the old adage that a picture is worth a thousand words is usually true we love optical displays of information because we are highly visual creatures it's no accident that kids love touch screens the pioneers who dreamt up graphical interface were inspired by cognitive psychology the study of how the brain deals with communication conversational uis are meant to replicate the way humans prefer to communicate but they end up requiring extra cognitive effort essentially we're swapping something simple for a more complex alternative sure there are some concepts that we can only express using language show me all the ways of getting to a museum that give me steps but don't take longer than minutes but most tasks can be carried out more efficiently and intuitively with guis than with a conversational ui aiming for a human dimension in business interactions makes sense if there's one thing that's broken about sales and marketing it's the lack of humanity brands hide behind ticket numbers feedback forms do not reply emails automated responses and gated contact us' forms facebook's goal is that their bots should pass the so called turing test meaning you can't tell whether you are talking to a bot or a human but a bot isn't the same as a human it never will be a conversation encompasses so much more than just text humans can read between the lines leverage contextual information and understand double layers like sarcasm bots quickly forget what they're talking about meaning it's a bit like conversing with someone who has little or no short term memory as hubspot team pinpointed people aren't easily fooled and pretending a bot is a human is guaranteed to diminish returns not to mention the fact that you're lying to your users and even those rare bots that are powered by state of the art nlp and excel at processing and producing content will fall short in comparison and here's the other thing conversational uis are built to replicate the way humans prefer to communicate with other humans but is that how humans prefer to interact with machines not necessarily at the end of the day no amount of witty quips or human like mannerisms will save a bot from conversational failure in a way those early adopters weren't entirely wrong people are yelling at google home to play their favorite song ordering pizza from the domino's bot and getting makeup tips from sephora but in terms of consumer response and developer involvement chatbots haven't lived up to the hype generated circa not even close computers are good at being computers searching for data crunching numbers analyzing opinions and condensing that information computers aren't good at understanding human emotion the state of nlp means they still don't get' what we're asking them never mind how we feel that's why it's still impossible to imagine effective customer support sales or marketing without the essential human touch empathy and emotional intelligence for now bots can continue to help us with automated repetitive low level tasks and queries as cogs in a larger more complex system and we did them and ourselves a disservice by expecting so much so soon but that's not the whole story yes our industry massively overestimated the initial impact chatbots would have emphasis on initial as bill gates once said the hype is over and that's a good thing now we can start examining the middle grounded grey area instead of the hyper inflated frantic black and white zone i believe we're at the very beginning of explosive growth this sense of anti climax is completely normal for transformational technology messaging will continue to gain traction chatbots aren't going away nlp and ai are becoming more sophisticated every day developers apps and platforms will continue to experiment with and heavily invest in conversational marketing and i can't wait to see what happens next from a quick cheer to a standing ovation clap to show how much you enjoyed this story head of growth for growthbot messaging conversational strategy hubspot medium's largest publication for makers subscribe to receive our top stories here https goo gl zhclji\""
      ]
     },
     "execution_count": 101,
     "metadata": {},
     "output_type": "execute_result"
    }
   ],
   "source": [
    "cleaned_sentences[0]"
   ]
  },
  {
   "cell_type": "markdown",
   "metadata": {},
   "source": [
    "## Store the cleaned sentences"
   ]
  },
  {
   "cell_type": "code",
   "execution_count": 103,
   "metadata": {},
   "outputs": [
    {
     "name": "stdout",
     "output_type": "stream",
     "text": [
      "Sentences successfully written to /Users/rosameliacarioni/University/MSc/1_year/4_period/language engineering/word_predictor/data/clean_data/articles.txt\n"
     ]
    }
   ],
   "source": [
    "output_file = '/Users/rosameliacarioni/University/MSc/1_year/4_period/language engineering/word_predictor/data/clean_data/articles.txt'\n",
    "write_sentences_to_file(cleaned_sentences, output_file)"
   ]
  }
 ],
 "metadata": {
  "kernelspec": {
   "display_name": "word_predictor",
   "language": "python",
   "name": "python3"
  },
  "language_info": {
   "codemirror_mode": {
    "name": "ipython",
    "version": 3
   },
   "file_extension": ".py",
   "mimetype": "text/x-python",
   "name": "python",
   "nbconvert_exporter": "python",
   "pygments_lexer": "ipython3",
   "version": "3.11.9"
  }
 },
 "nbformat": 4,
 "nbformat_minor": 2
}
