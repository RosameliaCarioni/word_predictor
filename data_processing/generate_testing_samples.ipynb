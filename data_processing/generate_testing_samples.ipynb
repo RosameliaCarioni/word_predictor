{
 "cells": [
  {
   "cell_type": "code",
   "execution_count": 3,
   "metadata": {},
   "outputs": [],
   "source": [
    "import re"
   ]
  },
  {
   "cell_type": "markdown",
   "metadata": {},
   "source": [
    "Notebook used to genreate 200 samples from the mobile text dataset.   \n",
    "\n",
    "From these 200 samples, 40 contain 2 words, 40 contain 3 words, 40 contain 4 words, 40 contain 5 words, and 40 contain 6 words. "
   ]
  },
  {
   "cell_type": "code",
   "execution_count": null,
   "metadata": {},
   "outputs": [],
   "source": [
    "def get_sentences_from_text(text):\n",
    "    sentences = text.split('\\n')\n",
    "    # Strip any leading/trailing whitespace characters from each sentence\n",
    "    sentences = [sentence.strip() for sentence in sentences if sentence.strip()]\n",
    "    return sentences"
   ]
  },
  {
   "cell_type": "code",
   "execution_count": 4,
   "metadata": {},
   "outputs": [],
   "source": [
    "input_file = '/Users/rosameliacarioni/University/MSc/1_year/4_period/language engineering/word_predictor/data/clean_data/mobile_text.txt'\n",
    "\n",
    "with open(input_file, 'r') as file:\n",
    "    text = file.read()\n",
    "\n",
    "sentences = get_sentences_from_text(text)"
   ]
  },
  {
   "cell_type": "code",
   "execution_count": 5,
   "metadata": {},
   "outputs": [
    {
     "data": {
      "text/plain": [
       "15302165"
      ]
     },
     "execution_count": 5,
     "metadata": {},
     "output_type": "execute_result"
    }
   ],
   "source": [
    "len(sentences)"
   ]
  },
  {
   "cell_type": "code",
   "execution_count": 60,
   "metadata": {},
   "outputs": [],
   "source": [
    "list_1 = []\n",
    "for sentence in sentences[:60]:\n",
    "    word_count = len(sentence.split())\n",
    "    if word_count >= 2:\n",
    "        sentence_to_append = sentence.split()[:2]\n",
    "        if sentence_to_append not in list_1:\n",
    "            list_1.append(sentence_to_append)\n",
    "    if len(list_1) == 40:\n",
    "        break"
   ]
  },
  {
   "cell_type": "code",
   "execution_count": 61,
   "metadata": {},
   "outputs": [
    {
     "data": {
      "text/plain": [
       "40"
      ]
     },
     "execution_count": 61,
     "metadata": {},
     "output_type": "execute_result"
    }
   ],
   "source": [
    "len(list_1)"
   ]
  },
  {
   "cell_type": "code",
   "execution_count": 62,
   "metadata": {},
   "outputs": [],
   "source": [
    "list_2 = []\n",
    "for sentence in sentences[60:120]:\n",
    "    word_count = len(sentence.split())\n",
    "    if word_count >= 3:\n",
    "        sentence_to_append = sentence.split()[:3]\n",
    "        if sentence_to_append not in list_2:\n",
    "            list_2.append(sentence_to_append)\n",
    "    if len(list_2) == 40:\n",
    "        break"
   ]
  },
  {
   "cell_type": "code",
   "execution_count": 63,
   "metadata": {},
   "outputs": [
    {
     "data": {
      "text/plain": [
       "40"
      ]
     },
     "execution_count": 63,
     "metadata": {},
     "output_type": "execute_result"
    }
   ],
   "source": [
    "len(list_2)"
   ]
  },
  {
   "cell_type": "code",
   "execution_count": 64,
   "metadata": {},
   "outputs": [],
   "source": [
    "list_3 = []\n",
    "for sentence in sentences[120:180]:\n",
    "    word_count = len(sentence.split())\n",
    "    if word_count >= 4:\n",
    "        sentence_to_append = sentence.split()[:4]\n",
    "        if sentence_to_append not in list_3:\n",
    "            list_3.append(sentence_to_append)\n",
    "    if len(list_3) == 40:\n",
    "        break"
   ]
  },
  {
   "cell_type": "code",
   "execution_count": 65,
   "metadata": {},
   "outputs": [
    {
     "data": {
      "text/plain": [
       "40"
      ]
     },
     "execution_count": 65,
     "metadata": {},
     "output_type": "execute_result"
    }
   ],
   "source": [
    "len(list_3)"
   ]
  },
  {
   "cell_type": "code",
   "execution_count": 66,
   "metadata": {},
   "outputs": [],
   "source": [
    "list_4 = []\n",
    "for sentence in sentences[180:250]:\n",
    "    word_count = len(sentence.split())\n",
    "    if word_count >= 5:\n",
    "        sentence_to_append = sentence.split()[:5]\n",
    "        if sentence_to_append not in list_4:\n",
    "            list_4.append(sentence_to_append)\n",
    "    if len(list_4) == 40:\n",
    "        break"
   ]
  },
  {
   "cell_type": "code",
   "execution_count": 67,
   "metadata": {},
   "outputs": [
    {
     "data": {
      "text/plain": [
       "40"
      ]
     },
     "execution_count": 67,
     "metadata": {},
     "output_type": "execute_result"
    }
   ],
   "source": [
    "len(list_4)"
   ]
  },
  {
   "cell_type": "code",
   "execution_count": 68,
   "metadata": {},
   "outputs": [],
   "source": [
    "list_5 = []\n",
    "for sentence in sentences[250:320]:\n",
    "    word_count = len(sentence.split())\n",
    "    if word_count >= 6:\n",
    "        sentence_to_append = sentence.split()[:6]\n",
    "        if sentence_to_append not in list_5:\n",
    "            list_5.append(sentence_to_append)\n",
    "    if len(list_5) == 40:\n",
    "        break"
   ]
  },
  {
   "cell_type": "code",
   "execution_count": 69,
   "metadata": {},
   "outputs": [
    {
     "data": {
      "text/plain": [
       "40"
      ]
     },
     "execution_count": 69,
     "metadata": {},
     "output_type": "execute_result"
    }
   ],
   "source": [
    "len(list_5)"
   ]
  },
  {
   "cell_type": "code",
   "execution_count": 46,
   "metadata": {},
   "outputs": [],
   "source": [
    "def write_lists_to_file(lists, filename):\n",
    "    with open(filename, 'w') as file:\n",
    "        for lst in lists:\n",
    "            for sentence in lst:\n",
    "                file.write(' '.join(sentence) + '\\n')"
   ]
  },
  {
   "cell_type": "code",
   "execution_count": 57,
   "metadata": {},
   "outputs": [],
   "source": [
    "all_lists  = []\n",
    "all_lists.append(list_1)\n",
    "all_lists.append(list_2)\n",
    "all_lists.append(list_3)\n",
    "all_lists.append(list_4)\n",
    "all_lists.append(list_5)"
   ]
  },
  {
   "cell_type": "code",
   "execution_count": 36,
   "metadata": {},
   "outputs": [
    {
     "data": {
      "text/plain": [
       "5"
      ]
     },
     "execution_count": 36,
     "metadata": {},
     "output_type": "execute_result"
    }
   ],
   "source": [
    "\n",
    "1176252629"
   ]
  },
  {
   "cell_type": "code",
   "execution_count": 58,
   "metadata": {},
   "outputs": [
    {
     "data": {
      "text/plain": [
       "20"
      ]
     },
     "execution_count": 58,
     "metadata": {},
     "output_type": "execute_result"
    }
   ],
   "source": [
    "len(all_lists[4])\n"
   ]
  },
  {
   "cell_type": "code",
   "execution_count": 59,
   "metadata": {},
   "outputs": [],
   "source": [
    "output_file = '/Users/rosameliacarioni/University/MSc/1_year/4_period/language engineering/word_predictor/data/clean_data/samples_mobile_test.txt'\n",
    "write_lists_to_file(all_lists, output_file)"
   ]
  },
  {
   "cell_type": "code",
   "execution_count": null,
   "metadata": {},
   "outputs": [],
   "source": []
  }
 ],
 "metadata": {
  "kernelspec": {
   "display_name": "word_predictor",
   "language": "python",
   "name": "python3"
  },
  "language_info": {
   "codemirror_mode": {
    "name": "ipython",
    "version": 3
   },
   "file_extension": ".py",
   "mimetype": "text/x-python",
   "name": "python",
   "nbconvert_exporter": "python",
   "pygments_lexer": "ipython3",
   "version": "3.11.9"
  }
 },
 "nbformat": 4,
 "nbformat_minor": 2
}
