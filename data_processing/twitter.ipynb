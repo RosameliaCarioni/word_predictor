{
 "cells": [
  {
   "cell_type": "code",
   "execution_count": 1,
   "id": "initial_id",
   "metadata": {
    "collapsed": true,
    "ExecuteTime": {
     "end_time": "2024-05-12T11:39:17.986840Z",
     "start_time": "2024-05-12T11:39:17.201888Z"
    }
   },
   "outputs": [],
   "source": [
    "import string\n",
    "import os\n",
    "from nltk.tokenize import TweetTokenizer\n",
    "import os.path\n",
    "import re"
   ]
  },
  {
   "cell_type": "markdown",
   "source": [
    "This notebook handles the pre-processing of the twitter and blog dataset available [here in RPub](https://rpubs.com/NAyako/1036093). \n",
    "\n",
    "It generates 1 .txt files with cleaned content named: `twitter.txt`. "
   ],
   "metadata": {
    "collapsed": false
   },
   "id": "386538c8afa72fdd"
  },
  {
   "cell_type": "markdown",
   "source": [
    "# Methods"
   ],
   "metadata": {
    "collapsed": false
   },
   "id": "e51f8847e6cd79df"
  },
  {
   "cell_type": "code",
   "execution_count": 5,
   "outputs": [],
   "source": [
    "def clean_line(line):\n",
    "    tokenizer = TweetTokenizer()\n",
    "    line = line.replace(\"’\", \"'\")\n",
    "    allowed_punctuation_char = \"'\"\n",
    "    allowed_punctuation_word = \"'\" + \"#\" + \"-\"\n",
    "    \n",
    "    # Modify regex to preserve periods in abbreviations like 'U.S.', 'P.M.', etc.\n",
    "    # 1. Substitute periods in known abbreviations with a placeholder\n",
    "    line = re.sub(r'(?<=\\b[A-Z])\\.(?=[A-Z]\\b)', '', line)  # Remove periods in multi-letter abbreviations\n",
    "    \n",
    "    line = re.sub(rf'[^\\w\\s{allowed_punctuation_word}{allowed_punctuation_char}(\\w+\\'\\w+)]|_|\\d', ' ',  line)\n",
    "    \n",
    "    words = tokenizer.tokenize(line)\n",
    "    result = ''\n",
    "    for i, word in enumerate(words):\n",
    "        if word in allowed_punctuation_char:\n",
    "            result = result.rstrip()\n",
    "            result += word.lower() + ' '\n",
    "        elif word not in string.punctuation:\n",
    "            translated_word = word.lower().replace('.', '')\n",
    "            if len(translated_word) == 0:\n",
    "                continue\n",
    "            result += translated_word + ' '\n",
    "    return result.rstrip()\n",
    "\n",
    "\n",
    "def process_files(file_or_dir):\n",
    "    \"\"\"\n",
    "    This function recursively processes all files in a directory.\n",
    "    \"\"\"\n",
    "    if os.path.isdir(file_or_dir):\n",
    "        for root, dirs, files in os.walk(file_or_dir):\n",
    "            for file in files:\n",
    "                process_files(os.path.join(root, file))\n",
    "    else:\n",
    "        print('Processing:', file_or_dir)\n",
    "        stream = open(file_or_dir, mode='r', encoding='utf-8', errors='ignore')\n",
    "        text = stream.readlines()\n",
    "        file_out = open(\"../data/twitter.txt\", \"a\")  # append mode\n",
    "        for line in text:\n",
    "            file_out.write(clean_line(line) + \"\\n\")\n",
    "        file_out.close()\n",
    "        print('Done!')"
   ],
   "metadata": {
    "collapsed": false,
    "ExecuteTime": {
     "end_time": "2024-05-12T11:39:38.050750Z",
     "start_time": "2024-05-12T11:39:38.045546Z"
    }
   },
   "id": "a76dad6bc0455a05"
  },
  {
   "cell_type": "markdown",
   "source": [
    "**Testing the function with small test cases:**"
   ],
   "metadata": {
    "collapsed": false
   },
   "id": "d83bf545b391049f"
  },
  {
   "cell_type": "code",
   "execution_count": 6,
   "outputs": [
    {
     "data": {
      "text/plain": "\"tryin' to dislodge the jerky chat test us today\""
     },
     "execution_count": 6,
     "metadata": {},
     "output_type": "execute_result"
    }
   ],
   "source": [
    "s = 'tryin\\' to dislodge the jerky. CHAT:test U.S.today 😆'\n",
    "clean_line(s)"
   ],
   "metadata": {
    "collapsed": false,
    "ExecuteTime": {
     "end_time": "2024-05-12T11:39:40.311007Z",
     "start_time": "2024-05-12T11:39:40.304207Z"
    }
   },
   "id": "46e715f99c32793"
  },
  {
   "cell_type": "markdown",
   "source": [
    "## Process and clean the data into a txt file"
   ],
   "metadata": {
    "collapsed": false
   },
   "id": "47ac70afd26a9346"
  },
  {
   "cell_type": "code",
   "execution_count": 8,
   "outputs": [
    {
     "name": "stdout",
     "output_type": "stream",
     "text": [
      "Processing: ../data/twitter/en_US.blogs.txt\n",
      "Done!\n",
      "Processing: ../data/twitter/en_US.twitter.txt\n",
      "Done!\n",
      "Processing: ../data/twitter/en_US.news.txt\n",
      "Done!\n"
     ]
    }
   ],
   "source": [
    "file = \"../data/twitter\"\n",
    "process_files(file)"
   ],
   "metadata": {
    "collapsed": false,
    "ExecuteTime": {
     "end_time": "2024-05-12T11:45:31.144980Z",
     "start_time": "2024-05-12T11:40:02.230168Z"
    }
   },
   "id": "aa190ca3ffdbccb6"
  },
  {
   "cell_type": "code",
   "execution_count": null,
   "outputs": [],
   "source": [],
   "metadata": {
    "collapsed": false
   },
   "id": "6dacb6bf7a74a220"
  }
 ],
 "metadata": {
  "kernelspec": {
   "display_name": "Python 3",
   "language": "python",
   "name": "python3"
  },
  "language_info": {
   "codemirror_mode": {
    "name": "ipython",
    "version": 2
   },
   "file_extension": ".py",
   "mimetype": "text/x-python",
   "name": "python",
   "nbconvert_exporter": "python",
   "pygments_lexer": "ipython2",
   "version": "2.7.6"
  }
 },
 "nbformat": 4,
 "nbformat_minor": 5
}
