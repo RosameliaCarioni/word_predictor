{
 "cells": [
  {
   "cell_type": "code",
   "execution_count": 9,
   "metadata": {},
   "outputs": [],
   "source": [
    "import string\n",
    "from nltk.tokenize import TweetTokenizer \n",
    "import re"
   ]
  },
  {
   "cell_type": "markdown",
   "metadata": {},
   "source": [
    "This notebook handles the pre-processing of the dataset used in a course assignment, relating to news articules. \n",
    "\n",
    "It generates 1 .txt files with cleaned content named: `news.txt`. "
   ]
  },
  {
   "cell_type": "markdown",
   "metadata": {},
   "source": [
    "# Methods"
   ]
  },
  {
   "cell_type": "code",
   "execution_count": 2,
   "metadata": {},
   "outputs": [],
   "source": [
    "def clean_line(line):\n",
    "    tokenizer = TweetTokenizer()\n",
    "    line = line.replace(\"’\", \"'\")\n",
    "    allowed_punctuation_char = \"'\"\n",
    "    allowed_punctuation_word = \"'\" + \"#\" + \"-\"\n",
    "    \n",
    "    # Modify regex to preserve periods in abbreviations like 'U.S.', 'P.M.', etc.\n",
    "    # 1. Substitute periods in known abbreviations with a placeholder\n",
    "    line = re.sub(r'(?<=\\b[A-Z])\\.(?=[A-Z]\\b)', '', line)  # Remove periods in multi-letter abbreviations\n",
    "    \n",
    "    line = re.sub(rf'[^\\w\\s{allowed_punctuation_word}{allowed_punctuation_char}(\\w+\\'\\w+)]|_|\\d', ' ',  line)\n",
    "    \n",
    "    words = tokenizer.tokenize(line)\n",
    "    result = ''\n",
    "    for i, word in enumerate(words):\n",
    "        if word in allowed_punctuation_char:\n",
    "            result = result.rstrip()\n",
    "            result += word.lower() + ' '\n",
    "        elif word not in string.punctuation:\n",
    "            translated_word = word.lower().replace('.', '')\n",
    "            if len(translated_word) == 0:\n",
    "                continue\n",
    "            result += translated_word + ' '\n",
    "    return result.rstrip()"
   ]
  },
  {
   "cell_type": "code",
   "execution_count": 3,
   "metadata": {},
   "outputs": [],
   "source": [
    "def extract_sentences_and_clean_them(file_path):\n",
    "    sentences = []\n",
    "    with open(file_path, 'r', encoding='utf-8', errors='ignore') as file:\n",
    "        for line in file:  \n",
    "            stripped_sentence = line.strip()\n",
    "            cleaned_sentence = clean_line(stripped_sentence)\n",
    "            sentences.append(cleaned_sentence)\n",
    "    return sentences"
   ]
  },
  {
   "cell_type": "code",
   "execution_count": 4,
   "metadata": {},
   "outputs": [],
   "source": [
    "def write_sentences_to_file(sentences, file_path):\n",
    "    try:\n",
    "        with open(file_path, 'w') as file:\n",
    "            for sentence in sentences:\n",
    "                file.write(sentence + '\\n')\n",
    "        print(f\"Sentences successfully written to {file_path}\")\n",
    "    except Exception as e:\n",
    "        print(f\"An error occurred while writing to the file: {e}\")"
   ]
  },
  {
   "cell_type": "markdown",
   "metadata": {},
   "source": [
    "# Data processing"
   ]
  },
  {
   "cell_type": "code",
   "execution_count": 5,
   "metadata": {},
   "outputs": [],
   "source": [
    "file_path = '/Users/rosameliacarioni/University/MSc/1_year/4_period/language engineering/word_predictor/data/news.2010.en.shuffled'\n"
   ]
  },
  {
   "cell_type": "code",
   "execution_count": 6,
   "metadata": {},
   "outputs": [],
   "source": [
    "sentences = extract_sentences_and_clean_them(file_path)"
   ]
  },
  {
   "cell_type": "code",
   "execution_count": 7,
   "metadata": {},
   "outputs": [
    {
     "data": {
      "text/plain": [
       "6797225"
      ]
     },
     "execution_count": 7,
     "metadata": {},
     "output_type": "execute_result"
    }
   ],
   "source": [
    "len(sentences)"
   ]
  },
  {
   "cell_type": "code",
   "execution_count": 8,
   "metadata": {},
   "outputs": [
    {
     "name": "stdout",
     "output_type": "stream",
     "text": [
      "Sentences successfully written to /Users/rosameliacarioni/University/MSc/1_year/4_period/language engineering/word_predictor/data/clean_data/news.txt\n"
     ]
    }
   ],
   "source": [
    "output_file = '/Users/rosameliacarioni/University/MSc/1_year/4_period/language engineering/word_predictor/data/clean_data/news.txt'\n",
    "write_sentences_to_file(sentences, output_file)"
   ]
  }
 ],
 "metadata": {
  "kernelspec": {
   "display_name": "word_predictor",
   "language": "python",
   "name": "python3"
  },
  "language_info": {
   "codemirror_mode": {
    "name": "ipython",
    "version": 3
   },
   "file_extension": ".py",
   "mimetype": "text/x-python",
   "name": "python",
   "nbconvert_exporter": "python",
   "pygments_lexer": "ipython3",
   "version": "3.11.9"
  }
 },
 "nbformat": 4,
 "nbformat_minor": 2
}
