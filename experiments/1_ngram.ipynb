{
 "cells": [
  {
   "cell_type": "code",
   "execution_count": 1,
   "id": "initial_id",
   "metadata": {
    "collapsed": true,
    "ExecuteTime": {
     "end_time": "2024-06-04T18:00:52.646630Z",
     "start_time": "2024-06-04T18:00:52.641479Z"
    }
   },
   "outputs": [],
   "source": [
    "from models import n_gram"
   ]
  },
  {
   "cell_type": "markdown",
   "source": [
    "# Experiment 1 - Top-1 and Top-5 accuracies for the ngram"
   ],
   "metadata": {
    "collapsed": false
   },
   "id": "1f82d034faf4ece3"
  },
  {
   "cell_type": "code",
   "execution_count": 2,
   "outputs": [
    {
     "name": "stdout",
     "output_type": "stream",
     "text": [
      "Successfully read the model\n",
      "Model ../weights/ngram_model_small_final.txt loaded.\n",
      "The top 5 word-level accuracy is  0.09\n",
      "The top 1 word-level accuracy is  0.02\n"
     ]
    }
   ],
   "source": [
    "model = n_gram.initialize_model()\n",
    "\n",
    "total_loss = 0\n",
    "correct, incorrect = 0,0\n",
    "top1_correct, top1_incorrect = 0,0\n",
    "with open('../data/clean_data/samples_mobile_test.txt') as f:\n",
    "    for line in f:\n",
    "        sentence = line.strip().split()\n",
    "        sequence = ' '.join(sentence[:-1])\n",
    "        sequence += ' '\n",
    "        target = sentence[-1]\n",
    "        next_words = model.predict_next_word(sequence, 5)\n",
    "        if target in next_words:\n",
    "            correct += 1\n",
    "        else:\n",
    "            incorrect += 1\n",
    "        \n",
    "        if next_words[0] == target:\n",
    "            top1_correct += 1\n",
    "        else:\n",
    "            top1_incorrect += 1\n",
    "            \n",
    "        \n",
    "word_accuracy_top5 = correct / (correct + incorrect)\n",
    "word_accuracy_top1 = top1_correct / (top1_correct + top1_incorrect)\n",
    "print()\n",
    "print(\"The top 5 word-level accuracy is \", word_accuracy_top5)\n",
    "print(\"The top 1 word-level accuracy is \", word_accuracy_top1)"
   ],
   "metadata": {
    "collapsed": false,
    "ExecuteTime": {
     "end_time": "2024-06-04T14:47:24.416688Z",
     "start_time": "2024-06-04T14:46:23.107164Z"
    }
   },
   "id": "a0455a9443963a90"
  },
  {
   "cell_type": "code",
   "execution_count": null,
   "outputs": [],
   "source": [],
   "metadata": {
    "collapsed": false
   },
   "id": "a87b8500ffa69852"
  }
 ],
 "metadata": {
  "kernelspec": {
   "display_name": "Python 3",
   "language": "python",
   "name": "python3"
  },
  "language_info": {
   "codemirror_mode": {
    "name": "ipython",
    "version": 2
   },
   "file_extension": ".py",
   "mimetype": "text/x-python",
   "name": "python",
   "nbconvert_exporter": "python",
   "pygments_lexer": "ipython2",
   "version": "2.7.6"
  }
 },
 "nbformat": 4,
 "nbformat_minor": 5
}
